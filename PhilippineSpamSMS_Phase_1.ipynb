{
 "cells": [
  {
   "attachments": {},
   "cell_type": "markdown",
   "metadata": {
    "id": "AZzyIv8tAIIH"
   },
   "source": [
    "# **Philippine Scam SMS**\n",
    "\n",
    "**Author/s: [Anton Reyes](https://www.github.com/AGR-yes)**"
   ]
  },
  {
   "attachments": {},
   "cell_type": "markdown",
   "metadata": {
    "id": "ppFAnb9My2ZV"
   },
   "source": [
    "## **Introduction**"
   ]
  },
  {
   "attachments": {},
   "cell_type": "markdown",
   "metadata": {
    "id": "ohCExKZ4y2jN"
   },
   "source": [
    "### **Requirements and Imports**"
   ]
  },
  {
   "attachments": {},
   "cell_type": "markdown",
   "metadata": {
    "id": "xHXvwKOdy2qv"
   },
   "source": [
    "#### **Imports**"
   ]
  },
  {
   "attachments": {},
   "cell_type": "markdown",
   "metadata": {
    "id": "McPgWjwsglQw"
   },
   "source": [
    "**Basic Libraries**\n",
    "\n",
    "* `numpy` contains a large collection of mathematical functions\n",
    "* `pandas` contains functions that are designed for data manipulation and data analysis"
   ]
  },
  {
   "cell_type": "code",
   "execution_count": 1,
   "metadata": {
    "id": "82rNPPaTpyfe"
   },
   "outputs": [],
   "source": [
    "import numpy as np\n",
    "import pandas as pd"
   ]
  },
  {
   "attachments": {},
   "cell_type": "markdown",
   "metadata": {
    "id": "HjRvGoC9g_25"
   },
   "source": [
    "**Visualization Libraries**\n",
    "\n",
    "* `matplotlib.pyplot` contains functions to create interactive plots\n",
    "* `seaborn` is a library based on matplotlib that allows for data visualization\n",
    "* `plotly` is an open-source graphing library for Python."
   ]
  },
  {
   "cell_type": "code",
   "execution_count": 2,
   "metadata": {
    "id": "5YGgFzaZp1MO"
   },
   "outputs": [],
   "source": [
    "import matplotlib.pyplot as plt\n",
    "import seaborn as sns\n",
    "import plotly.express as px"
   ]
  },
  {
   "attachments": {},
   "cell_type": "markdown",
   "metadata": {
    "id": "mUGR_tXwiDhV"
   },
   "source": [
    "**Natural Language Processing Libraries**\n",
    "* `re` is a module that allows the use of regular expressions"
   ]
  },
  {
   "cell_type": "code",
   "execution_count": 3,
   "metadata": {
    "id": "Ka0AZNlQp_xU"
   },
   "outputs": [],
   "source": [
    "import re"
   ]
  },
  {
   "attachments": {},
   "cell_type": "markdown",
   "metadata": {
    "id": "wS-PzIoIzHd9"
   },
   "source": [
    "#### **Datasets and Files**"
   ]
  },
  {
   "attachments": {},
   "cell_type": "markdown",
   "metadata": {
    "id": "0r6nOJHZ9uPh"
   },
   "source": [
    "The following files were used for this project:\n",
    "\n",
    "- `Scam_SMS_Reports.xlsx` contains the reports of users with the phone numbers, type of scam, proof, and name-inclusion.\n",
    "- `SPAM_SMS.csv` contains text messages of one person with number, text itself, and the time and date received.\n",
    "- `text-scams-incidents-philippines-2019-by-region.xlsx` contains number of scam messages (in thousands) received per region\n",
    "- `networks.csv` contains the first 4-5 numbers in a Philippine phone number to identify the network it belongs to."
   ]
  },
  {
   "attachments": {},
   "cell_type": "markdown",
   "metadata": {
    "id": "bOmp84vdy2xi"
   },
   "source": [
    "## **Data Collection**"
   ]
  },
  {
   "attachments": {},
   "cell_type": "markdown",
   "metadata": {
    "id": "v2y2p0DU-f0l"
   },
   "source": [
    "Importing the dataset using pandas."
   ]
  },
  {
   "cell_type": "code",
   "execution_count": 4,
   "metadata": {
    "colab": {
     "base_uri": "https://localhost:8080/",
     "height": 357
    },
    "id": "j4WSmzN3-LLl",
    "outputId": "08b81354-d39b-49d0-989a-9a1f10a53f44"
   },
   "outputs": [
    {
     "data": {
      "text/html": [
       "<div>\n",
       "<style scoped>\n",
       "    .dataframe tbody tr th:only-of-type {\n",
       "        vertical-align: middle;\n",
       "    }\n",
       "\n",
       "    .dataframe tbody tr th {\n",
       "        vertical-align: top;\n",
       "    }\n",
       "\n",
       "    .dataframe thead th {\n",
       "        text-align: right;\n",
       "    }\n",
       "</style>\n",
       "<table border=\"1\" class=\"dataframe\">\n",
       "  <thead>\n",
       "    <tr style=\"text-align: right;\">\n",
       "      <th></th>\n",
       "      <th></th>\n",
       "      <th>Number</th>\n",
       "      <th>Network (Auto-Generates)</th>\n",
       "      <th>Type of Scam</th>\n",
       "      <th>Proofs</th>\n",
       "      <th>Knows your name?\\nCheck if yes</th>\n",
       "      <th>Unnamed: 6</th>\n",
       "      <th>GRAPHS AND STUFF</th>\n",
       "      <th>Unnamed: 8</th>\n",
       "      <th>Unnamed: 9</th>\n",
       "      <th>...</th>\n",
       "      <th>Unnamed: 18</th>\n",
       "      <th>Unnamed: 19</th>\n",
       "      <th>Unnamed: 20</th>\n",
       "      <th>Unnamed: 21</th>\n",
       "      <th>Unnamed: 22</th>\n",
       "      <th>Unnamed: 23</th>\n",
       "      <th>Unnamed: 24</th>\n",
       "      <th>Unnamed: 25</th>\n",
       "      <th>Unnamed: 26</th>\n",
       "      <th>Unnamed: 27</th>\n",
       "    </tr>\n",
       "  </thead>\n",
       "  <tbody>\n",
       "    <tr>\n",
       "      <th>0</th>\n",
       "      <td>1</td>\n",
       "      <td>9103239417</td>\n",
       "      <td>NaN</td>\n",
       "      <td>Work from home</td>\n",
       "      <td>NaN</td>\n",
       "      <td>False</td>\n",
       "      <td>NaN</td>\n",
       "      <td>NaN</td>\n",
       "      <td>NaN</td>\n",
       "      <td>NaN</td>\n",
       "      <td>...</td>\n",
       "      <td>NaN</td>\n",
       "      <td>NaN</td>\n",
       "      <td>NaN</td>\n",
       "      <td>NaN</td>\n",
       "      <td>NaN</td>\n",
       "      <td>NaN</td>\n",
       "      <td>NaN</td>\n",
       "      <td>NaN</td>\n",
       "      <td>NaN</td>\n",
       "      <td>NaN</td>\n",
       "    </tr>\n",
       "    <tr>\n",
       "      <th>1</th>\n",
       "      <td>2</td>\n",
       "      <td>95348643</td>\n",
       "      <td>NaN</td>\n",
       "      <td>Dating Scam</td>\n",
       "      <td>NaN</td>\n",
       "      <td>False</td>\n",
       "      <td>NaN</td>\n",
       "      <td>NaN</td>\n",
       "      <td>NaN</td>\n",
       "      <td>NaN</td>\n",
       "      <td>...</td>\n",
       "      <td>NaN</td>\n",
       "      <td>NaN</td>\n",
       "      <td>NaN</td>\n",
       "      <td>NaN</td>\n",
       "      <td>NaN</td>\n",
       "      <td>NaN</td>\n",
       "      <td>NaN</td>\n",
       "      <td>NaN</td>\n",
       "      <td>NaN</td>\n",
       "      <td>NaN</td>\n",
       "    </tr>\n",
       "    <tr>\n",
       "      <th>2</th>\n",
       "      <td>3</td>\n",
       "      <td>931804865</td>\n",
       "      <td>NaN</td>\n",
       "      <td>work</td>\n",
       "      <td>NaN</td>\n",
       "      <td>False</td>\n",
       "      <td>NaN</td>\n",
       "      <td>NaN</td>\n",
       "      <td>NaN</td>\n",
       "      <td>NaN</td>\n",
       "      <td>...</td>\n",
       "      <td>NaN</td>\n",
       "      <td>NaN</td>\n",
       "      <td>NaN</td>\n",
       "      <td>NaN</td>\n",
       "      <td>NaN</td>\n",
       "      <td>NaN</td>\n",
       "      <td>NaN</td>\n",
       "      <td>NaN</td>\n",
       "      <td>NaN</td>\n",
       "      <td>NaN</td>\n",
       "    </tr>\n",
       "    <tr>\n",
       "      <th>3</th>\n",
       "      <td>4</td>\n",
       "      <td>981197529</td>\n",
       "      <td>NaN</td>\n",
       "      <td>nanalo sa lotto</td>\n",
       "      <td>NaN</td>\n",
       "      <td>False</td>\n",
       "      <td>NaN</td>\n",
       "      <td>NaN</td>\n",
       "      <td>NaN</td>\n",
       "      <td>NaN</td>\n",
       "      <td>...</td>\n",
       "      <td>NaN</td>\n",
       "      <td>NaN</td>\n",
       "      <td>NaN</td>\n",
       "      <td>NaN</td>\n",
       "      <td>NaN</td>\n",
       "      <td>NaN</td>\n",
       "      <td>NaN</td>\n",
       "      <td>NaN</td>\n",
       "      <td>NaN</td>\n",
       "      <td>NaN</td>\n",
       "    </tr>\n",
       "    <tr>\n",
       "      <th>4</th>\n",
       "      <td>5</td>\n",
       "      <td>981369614</td>\n",
       "      <td>NaN</td>\n",
       "      <td>Abroad Opportunity kuno</td>\n",
       "      <td>NaN</td>\n",
       "      <td>False</td>\n",
       "      <td>NaN</td>\n",
       "      <td>NaN</td>\n",
       "      <td>NaN</td>\n",
       "      <td>NaN</td>\n",
       "      <td>...</td>\n",
       "      <td>NaN</td>\n",
       "      <td>NaN</td>\n",
       "      <td>NaN</td>\n",
       "      <td>NaN</td>\n",
       "      <td>NaN</td>\n",
       "      <td>NaN</td>\n",
       "      <td>NaN</td>\n",
       "      <td>NaN</td>\n",
       "      <td>NaN</td>\n",
       "      <td>NaN</td>\n",
       "    </tr>\n",
       "  </tbody>\n",
       "</table>\n",
       "<p>5 rows × 28 columns</p>\n",
       "</div>"
      ],
      "text/plain": [
       "          Number Network (Auto-Generates)             Type of Scam Proofs  \\\n",
       "0  1  9103239417                      NaN           Work from home    NaN   \n",
       "1  2    95348643                      NaN              Dating Scam    NaN   \n",
       "2  3   931804865                      NaN                     work    NaN   \n",
       "3  4   981197529                      NaN          nanalo sa lotto    NaN   \n",
       "4  5   981369614                      NaN  Abroad Opportunity kuno    NaN   \n",
       "\n",
       "  Knows your name?\\nCheck if yes  Unnamed: 6 GRAPHS AND STUFF Unnamed: 8  \\\n",
       "0                          False         NaN              NaN        NaN   \n",
       "1                          False         NaN              NaN        NaN   \n",
       "2                          False         NaN              NaN        NaN   \n",
       "3                          False         NaN              NaN        NaN   \n",
       "4                          False         NaN              NaN        NaN   \n",
       "\n",
       "  Unnamed: 9  ...  Unnamed: 18 Unnamed: 19 Unnamed: 20  Unnamed: 21  \\\n",
       "0        NaN  ...          NaN         NaN         NaN          NaN   \n",
       "1        NaN  ...          NaN         NaN         NaN          NaN   \n",
       "2        NaN  ...          NaN         NaN         NaN          NaN   \n",
       "3        NaN  ...          NaN         NaN         NaN          NaN   \n",
       "4        NaN  ...          NaN         NaN         NaN          NaN   \n",
       "\n",
       "  Unnamed: 22 Unnamed: 23  Unnamed: 24 Unnamed: 25 Unnamed: 26  Unnamed: 27  \n",
       "0         NaN         NaN          NaN         NaN         NaN          NaN  \n",
       "1         NaN         NaN          NaN         NaN         NaN          NaN  \n",
       "2         NaN         NaN          NaN         NaN         NaN          NaN  \n",
       "3         NaN         NaN          NaN         NaN         NaN          NaN  \n",
       "4         NaN         NaN          NaN         NaN         NaN          NaN  \n",
       "\n",
       "[5 rows x 28 columns]"
      ]
     },
     "execution_count": 4,
     "metadata": {},
     "output_type": "execute_result"
    }
   ],
   "source": [
    "dataset = \"Raw Datasets/Scam_SMS_Reports.xlsx\"\n",
    "\n",
    "report = pd.read_excel(dataset)\n",
    "report.head()"
   ]
  },
  {
   "cell_type": "code",
   "execution_count": 5,
   "metadata": {},
   "outputs": [
    {
     "data": {
      "text/html": [
       "<div>\n",
       "<style scoped>\n",
       "    .dataframe tbody tr th:only-of-type {\n",
       "        vertical-align: middle;\n",
       "    }\n",
       "\n",
       "    .dataframe tbody tr th {\n",
       "        vertical-align: top;\n",
       "    }\n",
       "\n",
       "    .dataframe thead th {\n",
       "        text-align: right;\n",
       "    }\n",
       "</style>\n",
       "<table border=\"1\" class=\"dataframe\">\n",
       "  <thead>\n",
       "    <tr style=\"text-align: right;\">\n",
       "      <th></th>\n",
       "      <th>Unnamed: 0</th>\n",
       "      <th>_id</th>\n",
       "      <th>address</th>\n",
       "      <th>date</th>\n",
       "      <th>text</th>\n",
       "      <th>threadId</th>\n",
       "    </tr>\n",
       "  </thead>\n",
       "  <tbody>\n",
       "    <tr>\n",
       "      <th>0</th>\n",
       "      <td>0</td>\n",
       "      <td>8787</td>\n",
       "      <td>+6396***32373</td>\n",
       "      <td>2022-11-12 14:02:10.079</td>\n",
       "      <td>Welcome ! your have P1222 for S!ot , \\nWeb: 11...</td>\n",
       "      <td>836</td>\n",
       "    </tr>\n",
       "    <tr>\n",
       "      <th>1</th>\n",
       "      <td>1</td>\n",
       "      <td>8788</td>\n",
       "      <td>+6398***78852</td>\n",
       "      <td>2022-11-12 14:33:48.916</td>\n",
       "      <td>My god, at least 999P rewards waiting for you\\...</td>\n",
       "      <td>837</td>\n",
       "    </tr>\n",
       "    <tr>\n",
       "      <th>2</th>\n",
       "      <td>2</td>\n",
       "      <td>8789</td>\n",
       "      <td>+6394***80113</td>\n",
       "      <td>2022-11-13 23:03:15.023</td>\n",
       "      <td>DEAR VIP &lt;REAL NAME&gt;, No. 1 Online Sabong Site...</td>\n",
       "      <td>838</td>\n",
       "    </tr>\n",
       "    <tr>\n",
       "      <th>3</th>\n",
       "      <td>3</td>\n",
       "      <td>8790</td>\n",
       "      <td>+6395***34934</td>\n",
       "      <td>2022-11-14 00:07:18.715</td>\n",
       "      <td>&lt;REAL NAME&gt;! Today, you can win the iphone14PR...</td>\n",
       "      <td>839</td>\n",
       "    </tr>\n",
       "    <tr>\n",
       "      <th>4</th>\n",
       "      <td>4</td>\n",
       "      <td>8791</td>\n",
       "      <td>+6396***74401</td>\n",
       "      <td>2022-11-15 02:28:56.636</td>\n",
       "      <td>Welcome ! your have P1222 for S!ot , \\nWeb: gr...</td>\n",
       "      <td>841</td>\n",
       "    </tr>\n",
       "  </tbody>\n",
       "</table>\n",
       "</div>"
      ],
      "text/plain": [
       "   Unnamed: 0   _id        address                     date  \\\n",
       "0           0  8787  +6396***32373  2022-11-12 14:02:10.079   \n",
       "1           1  8788  +6398***78852  2022-11-12 14:33:48.916   \n",
       "2           2  8789  +6394***80113  2022-11-13 23:03:15.023   \n",
       "3           3  8790  +6395***34934  2022-11-14 00:07:18.715   \n",
       "4           4  8791  +6396***74401  2022-11-15 02:28:56.636   \n",
       "\n",
       "                                                text  threadId  \n",
       "0  Welcome ! your have P1222 for S!ot , \\nWeb: 11...       836  \n",
       "1  My god, at least 999P rewards waiting for you\\...       837  \n",
       "2  DEAR VIP <REAL NAME>, No. 1 Online Sabong Site...       838  \n",
       "3  <REAL NAME>! Today, you can win the iphone14PR...       839  \n",
       "4  Welcome ! your have P1222 for S!ot , \\nWeb: gr...       841  "
      ]
     },
     "execution_count": 5,
     "metadata": {},
     "output_type": "execute_result"
    }
   ],
   "source": [
    "dataset = \"Raw Datasets/SPAM_SMS.csv\"\n",
    "\n",
    "spam = pd.read_csv(dataset)\n",
    "spam.head()"
   ]
  },
  {
   "cell_type": "code",
   "execution_count": 6,
   "metadata": {},
   "outputs": [
    {
     "data": {
      "text/html": [
       "<div>\n",
       "<style scoped>\n",
       "    .dataframe tbody tr th:only-of-type {\n",
       "        vertical-align: middle;\n",
       "    }\n",
       "\n",
       "    .dataframe tbody tr th {\n",
       "        vertical-align: top;\n",
       "    }\n",
       "\n",
       "    .dataframe thead th {\n",
       "        text-align: right;\n",
       "    }\n",
       "</style>\n",
       "<table border=\"1\" class=\"dataframe\">\n",
       "  <thead>\n",
       "    <tr style=\"text-align: right;\">\n",
       "      <th></th>\n",
       "      <th>Unnamed: 0</th>\n",
       "      <th>Unnamed: 1</th>\n",
       "      <th>Unnamed: 2</th>\n",
       "    </tr>\n",
       "  </thead>\n",
       "  <tbody>\n",
       "    <tr>\n",
       "      <th>0</th>\n",
       "      <td>NaN</td>\n",
       "      <td>NaN</td>\n",
       "      <td>NaN</td>\n",
       "    </tr>\n",
       "    <tr>\n",
       "      <th>1</th>\n",
       "      <td>NaN</td>\n",
       "      <td>Number of SMS fraud or text scams incidents Ph...</td>\n",
       "      <td>NaN</td>\n",
       "    </tr>\n",
       "    <tr>\n",
       "      <th>2</th>\n",
       "      <td>NaN</td>\n",
       "      <td>Total number of SMS fraud or text scam inciden...</td>\n",
       "      <td>NaN</td>\n",
       "    </tr>\n",
       "    <tr>\n",
       "      <th>3</th>\n",
       "      <td>NaN</td>\n",
       "      <td>NaN</td>\n",
       "      <td>NaN</td>\n",
       "    </tr>\n",
       "    <tr>\n",
       "      <th>4</th>\n",
       "      <td>NaN</td>\n",
       "      <td>Region 3</td>\n",
       "      <td>3484.73</td>\n",
       "    </tr>\n",
       "  </tbody>\n",
       "</table>\n",
       "</div>"
      ],
      "text/plain": [
       "   Unnamed: 0                                         Unnamed: 1  Unnamed: 2\n",
       "0         NaN                                                NaN         NaN\n",
       "1         NaN  Number of SMS fraud or text scams incidents Ph...         NaN\n",
       "2         NaN  Total number of SMS fraud or text scam inciden...         NaN\n",
       "3         NaN                                                NaN         NaN\n",
       "4         NaN                                           Region 3     3484.73"
      ]
     },
     "execution_count": 6,
     "metadata": {},
     "output_type": "execute_result"
    }
   ],
   "source": [
    "dataset = \"Raw Datasets/text-scams-incidents-philippines-2019-by-region.xlsx\"\n",
    "\n",
    "incidents = pd.read_excel(dataset, sheet_name=\"Data\")\n",
    "incidents.head()"
   ]
  },
  {
   "attachments": {},
   "cell_type": "markdown",
   "metadata": {
    "id": "1xhhYdY5zQXO"
   },
   "source": [
    "## **Description of the Dataset**"
   ]
  },
  {
   "attachments": {},
   "cell_type": "markdown",
   "metadata": {
    "id": "hkE6cv_fEVJb"
   },
   "source": [
    "Here, we find the shape of the dataset."
   ]
  },
  {
   "cell_type": "code",
   "execution_count": 7,
   "metadata": {
    "colab": {
     "base_uri": "https://localhost:8080/"
    },
    "id": "xjCI2jZ--klz",
    "outputId": "1c310bc7-c2e0-4c67-d8cb-a7d4a94dd35e"
   },
   "outputs": [
    {
     "name": "stdout",
     "output_type": "stream",
     "text": [
      "(10493, 28)\n",
      "(170, 6)\n",
      "(21, 3)\n"
     ]
    }
   ],
   "source": [
    "sets = [report, spam, incidents]\n",
    "\n",
    "for set in sets:\n",
    "    print(set.shape)"
   ]
  },
  {
   "attachments": {},
   "cell_type": "markdown",
   "metadata": {
    "id": "b4xXJAoPEXau"
   },
   "source": [
    "By looking at the `info` of the dataframe, we can see that there are `null` values. "
   ]
  },
  {
   "cell_type": "code",
   "execution_count": 8,
   "metadata": {
    "colab": {
     "base_uri": "https://localhost:8080/"
    },
    "id": "Cd5-JeX--oNp",
    "outputId": "4b766982-da04-47ab-a2b3-92e82488a2f6"
   },
   "outputs": [
    {
     "name": "stdout",
     "output_type": "stream",
     "text": [
      "<class 'pandas.core.frame.DataFrame'>\n",
      "RangeIndex: 10493 entries, 0 to 10492\n",
      "Data columns (total 28 columns):\n",
      " #   Column                         Non-Null Count  Dtype  \n",
      "---  ------                         --------------  -----  \n",
      " 0                                  10493 non-null  int64  \n",
      " 1   Number                         4883 non-null   object \n",
      " 2   Network (Auto-Generates)       9974 non-null   object \n",
      " 3   Type of Scam                   4686 non-null   object \n",
      " 4   Proofs                         1257 non-null   object \n",
      " 5   Knows your name?\n",
      "Check if yes  10492 non-null  object \n",
      " 6   Unnamed: 6                     0 non-null      float64\n",
      " 7   GRAPHS AND STUFF               27 non-null     object \n",
      " 8   Unnamed: 8                     8 non-null      object \n",
      " 9   Unnamed: 9                     1 non-null      object \n",
      " 10  Unnamed: 10                    0 non-null      float64\n",
      " 11  Unnamed: 11                    1 non-null      object \n",
      " 12  Unnamed: 12                    1 non-null      object \n",
      " 13  Unnamed: 13                    0 non-null      float64\n",
      " 14  Unnamed: 14                    1 non-null      object \n",
      " 15  Unnamed: 15                    1 non-null      object \n",
      " 16  Unnamed: 16                    0 non-null      float64\n",
      " 17  Unnamed: 17                    1 non-null      object \n",
      " 18  Unnamed: 18                    1 non-null      object \n",
      " 19  Unnamed: 19                    0 non-null      float64\n",
      " 20  Unnamed: 20                    1 non-null      object \n",
      " 21  Unnamed: 21                    1 non-null      object \n",
      " 22  Unnamed: 22                    0 non-null      float64\n",
      " 23  Unnamed: 23                    1 non-null      object \n",
      " 24  Unnamed: 24                    1 non-null      object \n",
      " 25  Unnamed: 25                    0 non-null      float64\n",
      " 26  Unnamed: 26                    1 non-null      object \n",
      " 27  Unnamed: 27                    1 non-null      object \n",
      "dtypes: float64(7), int64(1), object(20)\n",
      "memory usage: 2.2+ MB\n"
     ]
    }
   ],
   "source": [
    "report.info()"
   ]
  },
  {
   "cell_type": "code",
   "execution_count": 9,
   "metadata": {},
   "outputs": [
    {
     "name": "stdout",
     "output_type": "stream",
     "text": [
      "<class 'pandas.core.frame.DataFrame'>\n",
      "RangeIndex: 170 entries, 0 to 169\n",
      "Data columns (total 6 columns):\n",
      " #   Column      Non-Null Count  Dtype \n",
      "---  ------      --------------  ----- \n",
      " 0   Unnamed: 0  170 non-null    int64 \n",
      " 1   _id         170 non-null    int64 \n",
      " 2   address     170 non-null    object\n",
      " 3   date        170 non-null    object\n",
      " 4   text        170 non-null    object\n",
      " 5   threadId    170 non-null    int64 \n",
      "dtypes: int64(3), object(3)\n",
      "memory usage: 8.1+ KB\n"
     ]
    }
   ],
   "source": [
    "spam.info()"
   ]
  },
  {
   "cell_type": "code",
   "execution_count": 10,
   "metadata": {},
   "outputs": [
    {
     "name": "stdout",
     "output_type": "stream",
     "text": [
      "<class 'pandas.core.frame.DataFrame'>\n",
      "RangeIndex: 21 entries, 0 to 20\n",
      "Data columns (total 3 columns):\n",
      " #   Column      Non-Null Count  Dtype  \n",
      "---  ------      --------------  -----  \n",
      " 0   Unnamed: 0  0 non-null      float64\n",
      " 1   Unnamed: 1  19 non-null     object \n",
      " 2   Unnamed: 2  17 non-null     float64\n",
      "dtypes: float64(2), object(1)\n",
      "memory usage: 632.0+ bytes\n"
     ]
    }
   ],
   "source": [
    "incidents.info()"
   ]
  },
  {
   "attachments": {},
   "cell_type": "markdown",
   "metadata": {
    "id": "leSuwgFlzRfk"
   },
   "source": [
    "## **Exploratory Data Analysis**"
   ]
  },
  {
   "attachments": {},
   "cell_type": "markdown",
   "metadata": {},
   "source": [
    "### **Report**"
   ]
  },
  {
   "cell_type": "code",
   "execution_count": 11,
   "metadata": {},
   "outputs": [
    {
     "data": {
      "text/plain": [
       "Index([' ', 'Number', 'Network (Auto-Generates)', 'Type of Scam', 'Proofs',\n",
       "       'Knows your name?\\nCheck if yes', 'Unnamed: 6', 'GRAPHS AND STUFF',\n",
       "       'Unnamed: 8', 'Unnamed: 9', 'Unnamed: 10', 'Unnamed: 11', 'Unnamed: 12',\n",
       "       'Unnamed: 13', 'Unnamed: 14', 'Unnamed: 15', 'Unnamed: 16',\n",
       "       'Unnamed: 17', 'Unnamed: 18', 'Unnamed: 19', 'Unnamed: 20',\n",
       "       'Unnamed: 21', 'Unnamed: 22', 'Unnamed: 23', 'Unnamed: 24',\n",
       "       'Unnamed: 25', 'Unnamed: 26', 'Unnamed: 27'],\n",
       "      dtype='object')"
      ]
     },
     "execution_count": 11,
     "metadata": {},
     "output_type": "execute_result"
    }
   ],
   "source": [
    "report.columns"
   ]
  },
  {
   "cell_type": "code",
   "execution_count": 12,
   "metadata": {},
   "outputs": [
    {
     "data": {
      "text/plain": [
       "                         5106\n",
       "Smart or Talk ‘N Text    3205\n",
       "Globe or TM              1240\n",
       "Smart                     289\n",
       "Sun Cellular              134\n",
       "Name: Network (Auto-Generates), dtype: int64"
      ]
     },
     "execution_count": 12,
     "metadata": {},
     "output_type": "execute_result"
    }
   ],
   "source": [
    "report['Network (Auto-Generates)'].value_counts()"
   ]
  },
  {
   "cell_type": "code",
   "execution_count": 13,
   "metadata": {},
   "outputs": [
    {
     "data": {
      "text/plain": [
       "https://t.ly/stsH -compiled spam message screenshot                                                                                                                                                                                                                  62\n",
       "Row 469 - Proof                                                                                                                                                                                                                                                      39\n",
       "Screenshot                                                                                                                                                                                                                                                           37\n",
       "'                                                                                                                                                                                                                                                                     8\n",
       "luckyphil.com/login                                                                                                                                                                                                                                                   8\n",
       "                                                                                                                                                                                                                                                                     ..\n",
       "Greetings,\\nI am writing to express my interest on working with you, i have a proposal that might interest you, i would like an opportunity to further discuss in detail. kindly contact me by email : alfredoayub@hotmail.com, I await your urgent response.\\n\\n     1\n",
       "SOLAR 3 WAY LIGHTS\\nSOBRA GANDA AT FORMAL ILAGAY SA WALL\\n\\nCLICK HERE FOR PICTURE AND PRICE --->  https://s.lazada.com.ph/s.fz8pd\\n\\nBUY 1 TAKE 1 TODAY ONLY !!!                                                                                                     1\n",
       "4 PCS SOLAR LIGHTS FOR ONLY 1,499 ! CLICK HERE TO BUY --> https://s.lazada.com.ph/s.UXHEg BUY 2 TAKE 2 TODAY ONLY !                                                                                                                                                   1\n",
       "Baka ikaw na ang susunod na magiging MILYONARYO. Pag sumali ka sa casino link chuchunes                                                                                                                                                                               1\n",
       "Why are you still waiting, DEAR VIP Get your P1,00 T1bet Cash reward for completing the verification process. Join right away! t1betnew. c o m                                                                                                                        1\n",
       "Name: Proofs, Length: 968, dtype: int64"
      ]
     },
     "execution_count": 13,
     "metadata": {},
     "output_type": "execute_result"
    }
   ],
   "source": [
    "report['Proofs'].value_counts()"
   ]
  },
  {
   "cell_type": "code",
   "execution_count": 14,
   "metadata": {},
   "outputs": [
    {
     "data": {
      "text/plain": [
       "False                                                                                                                          10279\n",
       "True                                                                                                                             195\n",
       "linky-ph/-BingoPlus                                                                                                                2\n",
       "Atin/B.e.t/  is  B.e.s.t On/l.i.n.e Ca/si.n0 in the Philippines. http://okadaonline.pics/KsN G/e/t 80 % for every de/po/sit        2\n",
       "Mentioned my name and the link. Ayaw nya daw ako maging mahirap HAHHAHA                                                            1\n",
       "98 Games; Cash in                                                                                                                  1\n",
       "http://gcxvd2ny.com                                                                                                                1\n",
       "mentioned my name                                                                                                                  1\n",
       "https://linnki.in/WNgzX                                                                                                            1\n",
       "mentioned my full name                                                                                                             1\n",
       "Mybitglobal (https://t.co/9GDnInpR0M                                                                                               1\n",
       "*got my name from viber                                                                                                            1\n",
       "wplusb3t4you.com/P2n2-Ng-Sw3rt3                                                                                                    1\n",
       "https://bit.ly/6vCnboP                                                                                                             1\n",
       "https://t.hxfxph.com./YP1WL                                                                                                        1\n",
       "http://ox4xtu.com                                                                                                                  1\n",
       "luckyphil.com/login                                                                                                                1\n",
       "https://lihi1.com/7QQPD                                                                                                            1\n",
       "Name: Knows your name?\\nCheck if yes, dtype: int64"
      ]
     },
     "execution_count": 14,
     "metadata": {},
     "output_type": "execute_result"
    }
   ],
   "source": [
    "report['Knows your name?\\nCheck if yes'].value_counts()"
   ]
  },
  {
   "cell_type": "code",
   "execution_count": 15,
   "metadata": {},
   "outputs": [
    {
     "data": {
      "text/plain": [
       "                                   int64\n",
       "Number                            object\n",
       "Network (Auto-Generates)          object\n",
       "Type of Scam                      object\n",
       "Proofs                            object\n",
       "Knows your name?\\nCheck if yes    object\n",
       "dtype: object"
      ]
     },
     "execution_count": 15,
     "metadata": {},
     "output_type": "execute_result"
    }
   ],
   "source": [
    "report.iloc[:, 0:6].dtypes"
   ]
  },
  {
   "cell_type": "code",
   "execution_count": 16,
   "metadata": {},
   "outputs": [
    {
     "data": {
      "text/plain": [
       "9602956931    4\n",
       "9171832274    4\n",
       "9811905645    4\n",
       "9813126760    4\n",
       "9173211259    4\n",
       "9812913402    4\n",
       "9852597532    4\n",
       "9317418500    4\n",
       "9750223903    4\n",
       "9177095646    3\n",
       "9813696569    3\n",
       "9504889147    3\n",
       "9813810743    3\n",
       "9261762496    3\n",
       "9811905386    3\n",
       "9270512120    3\n",
       "9171050224    3\n",
       "9171874218    3\n",
       "9761276078    3\n",
       "9813458245    3\n",
       "9171473405    3\n",
       "9811993224    3\n",
       "9389379718    3\n",
       "9811905673    3\n",
       "9178255960    3\n",
       "9125514092    3\n",
       "9702629918    3\n",
       "9813810774    3\n",
       "9171453599    3\n",
       "9811905410    3\n",
       "9097709911    3\n",
       "9812142562    3\n",
       "9813458247    3\n",
       "9171780185    3\n",
       "9096938537    3\n",
       "9171344686    3\n",
       "9171342236    3\n",
       "9171299857    3\n",
       "Name: Number, dtype: int64"
      ]
     },
     "execution_count": 16,
     "metadata": {},
     "output_type": "execute_result"
    }
   ],
   "source": [
    "report['Number'].value_counts()[report['Number'].value_counts() > 2]"
   ]
  },
  {
   "attachments": {},
   "cell_type": "markdown",
   "metadata": {},
   "source": [
    "### **Spam**"
   ]
  },
  {
   "cell_type": "code",
   "execution_count": 17,
   "metadata": {},
   "outputs": [
    {
     "data": {
      "text/plain": [
       "Index(['Unnamed: 0', '_id', 'address', 'date', 'text', 'threadId'], dtype='object')"
      ]
     },
     "execution_count": 17,
     "metadata": {},
     "output_type": "execute_result"
    }
   ],
   "source": [
    "spam.columns"
   ]
  },
  {
   "cell_type": "code",
   "execution_count": 18,
   "metadata": {},
   "outputs": [
    {
     "data": {
      "text/plain": [
       "count                         170\n",
       "unique                        170\n",
       "top       2022-11-12 14:02:10.079\n",
       "freq                            1\n",
       "Name: date, dtype: object"
      ]
     },
     "execution_count": 18,
     "metadata": {},
     "output_type": "execute_result"
    }
   ],
   "source": [
    "spam['date'].describe()"
   ]
  },
  {
   "cell_type": "code",
   "execution_count": 19,
   "metadata": {},
   "outputs": [
    {
     "name": "stdout",
     "output_type": "stream",
     "text": [
      "<class 'pandas.core.series.Series'>\n",
      "RangeIndex: 170 entries, 0 to 169\n",
      "Series name: date\n",
      "Non-Null Count  Dtype \n",
      "--------------  ----- \n",
      "170 non-null    object\n",
      "dtypes: object(1)\n",
      "memory usage: 1.5+ KB\n"
     ]
    }
   ],
   "source": [
    "spam['date'].info()"
   ]
  },
  {
   "attachments": {},
   "cell_type": "markdown",
   "metadata": {
    "id": "cau2aFTizRny"
   },
   "source": [
    "## **Data Preprocessing**"
   ]
  },
  {
   "attachments": {},
   "cell_type": "markdown",
   "metadata": {},
   "source": [
    "### **Networks**"
   ]
  },
  {
   "cell_type": "code",
   "execution_count": 20,
   "metadata": {},
   "outputs": [
    {
     "data": {
      "text/plain": [
       "Globe/TM          25\n",
       "Smart             14\n",
       "Sun               14\n",
       "TNT                9\n",
       "Globe PostPaid     9\n",
       "DITO               8\n",
       "Globe              1\n",
       "Globe/GOMO         1\n",
       "Name: Network, dtype: int64"
      ]
     },
     "execution_count": 20,
     "metadata": {},
     "output_type": "execute_result"
    }
   ],
   "source": [
    "network = pd.read_csv(\"Raw Datasets/networks.csv\")\n",
    "network['Network'].value_counts()"
   ]
  },
  {
   "attachments": {},
   "cell_type": "markdown",
   "metadata": {},
   "source": [
    "We need to make `Globe` consistent, so we clean it up."
   ]
  },
  {
   "cell_type": "code",
   "execution_count": 21,
   "metadata": {},
   "outputs": [
    {
     "data": {
      "text/plain": [
       "Globe or TM              36\n",
       "Smart or Talk 'N Text    23\n",
       "Sun Cellular             14\n",
       "DITO                      8\n",
       "Name: Network, dtype: int64"
      ]
     },
     "execution_count": 21,
     "metadata": {},
     "output_type": "execute_result"
    }
   ],
   "source": [
    "#replce the Globe Postpaid, Globe/TM, into just Globe\n",
    "network['Network'] = network['Network'].replace(['Globe/TM', 'Globe PostPaid', 'Globe/GOMO', 'Globe'], 'Globe or TM')\n",
    "network['Network'] = network['Network'].replace(['Smart', 'TNT'], \"Smart or Talk 'N Text\")\n",
    "network['Network'] = network['Network'].replace(['Sun'], \"Sun Cellular\")\n",
    "\n",
    "network['Network'].value_counts()"
   ]
  },
  {
   "cell_type": "code",
   "execution_count": 22,
   "metadata": {},
   "outputs": [
    {
     "data": {
      "text/html": [
       "<div>\n",
       "<style scoped>\n",
       "    .dataframe tbody tr th:only-of-type {\n",
       "        vertical-align: middle;\n",
       "    }\n",
       "\n",
       "    .dataframe tbody tr th {\n",
       "        vertical-align: top;\n",
       "    }\n",
       "\n",
       "    .dataframe thead th {\n",
       "        text-align: right;\n",
       "    }\n",
       "</style>\n",
       "<table border=\"1\" class=\"dataframe\">\n",
       "  <thead>\n",
       "    <tr style=\"text-align: right;\">\n",
       "      <th></th>\n",
       "      <th>Prefix</th>\n",
       "      <th>Network</th>\n",
       "    </tr>\n",
       "  </thead>\n",
       "  <tbody>\n",
       "    <tr>\n",
       "      <th>0</th>\n",
       "      <td>817</td>\n",
       "      <td>Globe or TM</td>\n",
       "    </tr>\n",
       "    <tr>\n",
       "      <th>1</th>\n",
       "      <td>895</td>\n",
       "      <td>DITO</td>\n",
       "    </tr>\n",
       "    <tr>\n",
       "      <th>2</th>\n",
       "      <td>896</td>\n",
       "      <td>DITO</td>\n",
       "    </tr>\n",
       "    <tr>\n",
       "      <th>3</th>\n",
       "      <td>897</td>\n",
       "      <td>DITO</td>\n",
       "    </tr>\n",
       "    <tr>\n",
       "      <th>4</th>\n",
       "      <td>898</td>\n",
       "      <td>DITO</td>\n",
       "    </tr>\n",
       "    <tr>\n",
       "      <th>...</th>\n",
       "      <td>...</td>\n",
       "      <td>...</td>\n",
       "    </tr>\n",
       "    <tr>\n",
       "      <th>76</th>\n",
       "      <td>925</td>\n",
       "      <td>Globe or TM</td>\n",
       "    </tr>\n",
       "    <tr>\n",
       "      <th>77</th>\n",
       "      <td>925</td>\n",
       "      <td>Globe or TM</td>\n",
       "    </tr>\n",
       "    <tr>\n",
       "      <th>78</th>\n",
       "      <td>925</td>\n",
       "      <td>Globe or TM</td>\n",
       "    </tr>\n",
       "    <tr>\n",
       "      <th>79</th>\n",
       "      <td>925</td>\n",
       "      <td>Globe or TM</td>\n",
       "    </tr>\n",
       "    <tr>\n",
       "      <th>80</th>\n",
       "      <td>925</td>\n",
       "      <td>Globe or TM</td>\n",
       "    </tr>\n",
       "  </tbody>\n",
       "</table>\n",
       "<p>81 rows × 2 columns</p>\n",
       "</div>"
      ],
      "text/plain": [
       "   Prefix      Network\n",
       "0     817  Globe or TM\n",
       "1     895         DITO\n",
       "2     896         DITO\n",
       "3     897         DITO\n",
       "4     898         DITO\n",
       "..    ...          ...\n",
       "76    925  Globe or TM\n",
       "77    925  Globe or TM\n",
       "78    925  Globe or TM\n",
       "79    925  Globe or TM\n",
       "80    925  Globe or TM\n",
       "\n",
       "[81 rows x 2 columns]"
      ]
     },
     "execution_count": 22,
     "metadata": {},
     "output_type": "execute_result"
    }
   ],
   "source": [
    "#keep the first three digits of the number\n",
    "network['Prefix'] = network['Prefix'].astype(str).str[:3]\n",
    "\n",
    "network"
   ]
  },
  {
   "attachments": {},
   "cell_type": "markdown",
   "metadata": {},
   "source": [
    "### **Reports**"
   ]
  },
  {
   "attachments": {},
   "cell_type": "markdown",
   "metadata": {
    "id": "r_K5_I_oF4au"
   },
   "source": [
    "#### **Data Preprocessing**"
   ]
  },
  {
   "attachments": {},
   "cell_type": "markdown",
   "metadata": {},
   "source": [
    "##### **Dropping**"
   ]
  },
  {
   "cell_type": "code",
   "execution_count": 23,
   "metadata": {},
   "outputs": [
    {
     "data": {
      "text/html": [
       "<div>\n",
       "<style scoped>\n",
       "    .dataframe tbody tr th:only-of-type {\n",
       "        vertical-align: middle;\n",
       "    }\n",
       "\n",
       "    .dataframe tbody tr th {\n",
       "        vertical-align: top;\n",
       "    }\n",
       "\n",
       "    .dataframe thead th {\n",
       "        text-align: right;\n",
       "    }\n",
       "</style>\n",
       "<table border=\"1\" class=\"dataframe\">\n",
       "  <thead>\n",
       "    <tr style=\"text-align: right;\">\n",
       "      <th></th>\n",
       "      <th></th>\n",
       "      <th>Number</th>\n",
       "      <th>Network (Auto-Generates)</th>\n",
       "      <th>Type of Scam</th>\n",
       "      <th>Proofs</th>\n",
       "      <th>Knows your name?\\nCheck if yes</th>\n",
       "      <th>Unnamed: 6</th>\n",
       "      <th>GRAPHS AND STUFF</th>\n",
       "      <th>Unnamed: 8</th>\n",
       "      <th>Unnamed: 9</th>\n",
       "      <th>...</th>\n",
       "      <th>Unnamed: 18</th>\n",
       "      <th>Unnamed: 19</th>\n",
       "      <th>Unnamed: 20</th>\n",
       "      <th>Unnamed: 21</th>\n",
       "      <th>Unnamed: 22</th>\n",
       "      <th>Unnamed: 23</th>\n",
       "      <th>Unnamed: 24</th>\n",
       "      <th>Unnamed: 25</th>\n",
       "      <th>Unnamed: 26</th>\n",
       "      <th>Unnamed: 27</th>\n",
       "    </tr>\n",
       "  </thead>\n",
       "  <tbody>\n",
       "    <tr>\n",
       "      <th>0</th>\n",
       "      <td>1</td>\n",
       "      <td>9103239417</td>\n",
       "      <td>NaN</td>\n",
       "      <td>Work from home</td>\n",
       "      <td>NaN</td>\n",
       "      <td>False</td>\n",
       "      <td>NaN</td>\n",
       "      <td>NaN</td>\n",
       "      <td>NaN</td>\n",
       "      <td>NaN</td>\n",
       "      <td>...</td>\n",
       "      <td>NaN</td>\n",
       "      <td>NaN</td>\n",
       "      <td>NaN</td>\n",
       "      <td>NaN</td>\n",
       "      <td>NaN</td>\n",
       "      <td>NaN</td>\n",
       "      <td>NaN</td>\n",
       "      <td>NaN</td>\n",
       "      <td>NaN</td>\n",
       "      <td>NaN</td>\n",
       "    </tr>\n",
       "    <tr>\n",
       "      <th>1</th>\n",
       "      <td>2</td>\n",
       "      <td>95348643</td>\n",
       "      <td>NaN</td>\n",
       "      <td>Dating Scam</td>\n",
       "      <td>NaN</td>\n",
       "      <td>False</td>\n",
       "      <td>NaN</td>\n",
       "      <td>NaN</td>\n",
       "      <td>NaN</td>\n",
       "      <td>NaN</td>\n",
       "      <td>...</td>\n",
       "      <td>NaN</td>\n",
       "      <td>NaN</td>\n",
       "      <td>NaN</td>\n",
       "      <td>NaN</td>\n",
       "      <td>NaN</td>\n",
       "      <td>NaN</td>\n",
       "      <td>NaN</td>\n",
       "      <td>NaN</td>\n",
       "      <td>NaN</td>\n",
       "      <td>NaN</td>\n",
       "    </tr>\n",
       "    <tr>\n",
       "      <th>2</th>\n",
       "      <td>3</td>\n",
       "      <td>931804865</td>\n",
       "      <td>NaN</td>\n",
       "      <td>work</td>\n",
       "      <td>NaN</td>\n",
       "      <td>False</td>\n",
       "      <td>NaN</td>\n",
       "      <td>NaN</td>\n",
       "      <td>NaN</td>\n",
       "      <td>NaN</td>\n",
       "      <td>...</td>\n",
       "      <td>NaN</td>\n",
       "      <td>NaN</td>\n",
       "      <td>NaN</td>\n",
       "      <td>NaN</td>\n",
       "      <td>NaN</td>\n",
       "      <td>NaN</td>\n",
       "      <td>NaN</td>\n",
       "      <td>NaN</td>\n",
       "      <td>NaN</td>\n",
       "      <td>NaN</td>\n",
       "    </tr>\n",
       "    <tr>\n",
       "      <th>3</th>\n",
       "      <td>4</td>\n",
       "      <td>981197529</td>\n",
       "      <td>NaN</td>\n",
       "      <td>nanalo sa lotto</td>\n",
       "      <td>NaN</td>\n",
       "      <td>False</td>\n",
       "      <td>NaN</td>\n",
       "      <td>NaN</td>\n",
       "      <td>NaN</td>\n",
       "      <td>NaN</td>\n",
       "      <td>...</td>\n",
       "      <td>NaN</td>\n",
       "      <td>NaN</td>\n",
       "      <td>NaN</td>\n",
       "      <td>NaN</td>\n",
       "      <td>NaN</td>\n",
       "      <td>NaN</td>\n",
       "      <td>NaN</td>\n",
       "      <td>NaN</td>\n",
       "      <td>NaN</td>\n",
       "      <td>NaN</td>\n",
       "    </tr>\n",
       "    <tr>\n",
       "      <th>4</th>\n",
       "      <td>5</td>\n",
       "      <td>981369614</td>\n",
       "      <td>NaN</td>\n",
       "      <td>Abroad Opportunity kuno</td>\n",
       "      <td>NaN</td>\n",
       "      <td>False</td>\n",
       "      <td>NaN</td>\n",
       "      <td>NaN</td>\n",
       "      <td>NaN</td>\n",
       "      <td>NaN</td>\n",
       "      <td>...</td>\n",
       "      <td>NaN</td>\n",
       "      <td>NaN</td>\n",
       "      <td>NaN</td>\n",
       "      <td>NaN</td>\n",
       "      <td>NaN</td>\n",
       "      <td>NaN</td>\n",
       "      <td>NaN</td>\n",
       "      <td>NaN</td>\n",
       "      <td>NaN</td>\n",
       "      <td>NaN</td>\n",
       "    </tr>\n",
       "  </tbody>\n",
       "</table>\n",
       "<p>5 rows × 28 columns</p>\n",
       "</div>"
      ],
      "text/plain": [
       "          Number Network (Auto-Generates)             Type of Scam Proofs  \\\n",
       "0  1  9103239417                      NaN           Work from home    NaN   \n",
       "1  2    95348643                      NaN              Dating Scam    NaN   \n",
       "2  3   931804865                      NaN                     work    NaN   \n",
       "3  4   981197529                      NaN          nanalo sa lotto    NaN   \n",
       "4  5   981369614                      NaN  Abroad Opportunity kuno    NaN   \n",
       "\n",
       "  Knows your name?\\nCheck if yes  Unnamed: 6 GRAPHS AND STUFF Unnamed: 8  \\\n",
       "0                          False         NaN              NaN        NaN   \n",
       "1                          False         NaN              NaN        NaN   \n",
       "2                          False         NaN              NaN        NaN   \n",
       "3                          False         NaN              NaN        NaN   \n",
       "4                          False         NaN              NaN        NaN   \n",
       "\n",
       "  Unnamed: 9  ...  Unnamed: 18 Unnamed: 19 Unnamed: 20  Unnamed: 21  \\\n",
       "0        NaN  ...          NaN         NaN         NaN          NaN   \n",
       "1        NaN  ...          NaN         NaN         NaN          NaN   \n",
       "2        NaN  ...          NaN         NaN         NaN          NaN   \n",
       "3        NaN  ...          NaN         NaN         NaN          NaN   \n",
       "4        NaN  ...          NaN         NaN         NaN          NaN   \n",
       "\n",
       "  Unnamed: 22 Unnamed: 23  Unnamed: 24 Unnamed: 25 Unnamed: 26  Unnamed: 27  \n",
       "0         NaN         NaN          NaN         NaN         NaN          NaN  \n",
       "1         NaN         NaN          NaN         NaN         NaN          NaN  \n",
       "2         NaN         NaN          NaN         NaN         NaN          NaN  \n",
       "3         NaN         NaN          NaN         NaN         NaN          NaN  \n",
       "4         NaN         NaN          NaN         NaN         NaN          NaN  \n",
       "\n",
       "[5 rows x 28 columns]"
      ]
     },
     "execution_count": 23,
     "metadata": {},
     "output_type": "execute_result"
    }
   ],
   "source": [
    "report.head()"
   ]
  },
  {
   "cell_type": "code",
   "execution_count": 24,
   "metadata": {},
   "outputs": [
    {
     "data": {
      "text/html": [
       "<div>\n",
       "<style scoped>\n",
       "    .dataframe tbody tr th:only-of-type {\n",
       "        vertical-align: middle;\n",
       "    }\n",
       "\n",
       "    .dataframe tbody tr th {\n",
       "        vertical-align: top;\n",
       "    }\n",
       "\n",
       "    .dataframe thead th {\n",
       "        text-align: right;\n",
       "    }\n",
       "</style>\n",
       "<table border=\"1\" class=\"dataframe\">\n",
       "  <thead>\n",
       "    <tr style=\"text-align: right;\">\n",
       "      <th></th>\n",
       "      <th></th>\n",
       "      <th>Number</th>\n",
       "      <th>Network (Auto-Generates)</th>\n",
       "      <th>Type of Scam</th>\n",
       "      <th>Proofs</th>\n",
       "      <th>Knows your name?\\nCheck if yes</th>\n",
       "    </tr>\n",
       "  </thead>\n",
       "  <tbody>\n",
       "    <tr>\n",
       "      <th>0</th>\n",
       "      <td>1</td>\n",
       "      <td>9103239417</td>\n",
       "      <td>NaN</td>\n",
       "      <td>Work from home</td>\n",
       "      <td>NaN</td>\n",
       "      <td>False</td>\n",
       "    </tr>\n",
       "    <tr>\n",
       "      <th>1</th>\n",
       "      <td>2</td>\n",
       "      <td>95348643</td>\n",
       "      <td>NaN</td>\n",
       "      <td>Dating Scam</td>\n",
       "      <td>NaN</td>\n",
       "      <td>False</td>\n",
       "    </tr>\n",
       "    <tr>\n",
       "      <th>2</th>\n",
       "      <td>3</td>\n",
       "      <td>931804865</td>\n",
       "      <td>NaN</td>\n",
       "      <td>work</td>\n",
       "      <td>NaN</td>\n",
       "      <td>False</td>\n",
       "    </tr>\n",
       "    <tr>\n",
       "      <th>3</th>\n",
       "      <td>4</td>\n",
       "      <td>981197529</td>\n",
       "      <td>NaN</td>\n",
       "      <td>nanalo sa lotto</td>\n",
       "      <td>NaN</td>\n",
       "      <td>False</td>\n",
       "    </tr>\n",
       "    <tr>\n",
       "      <th>4</th>\n",
       "      <td>5</td>\n",
       "      <td>981369614</td>\n",
       "      <td>NaN</td>\n",
       "      <td>Abroad Opportunity kuno</td>\n",
       "      <td>NaN</td>\n",
       "      <td>False</td>\n",
       "    </tr>\n",
       "  </tbody>\n",
       "</table>\n",
       "</div>"
      ],
      "text/plain": [
       "          Number Network (Auto-Generates)             Type of Scam Proofs  \\\n",
       "0  1  9103239417                      NaN           Work from home    NaN   \n",
       "1  2    95348643                      NaN              Dating Scam    NaN   \n",
       "2  3   931804865                      NaN                     work    NaN   \n",
       "3  4   981197529                      NaN          nanalo sa lotto    NaN   \n",
       "4  5   981369614                      NaN  Abroad Opportunity kuno    NaN   \n",
       "\n",
       "  Knows your name?\\nCheck if yes  \n",
       "0                          False  \n",
       "1                          False  \n",
       "2                          False  \n",
       "3                          False  \n",
       "4                          False  "
      ]
     },
     "execution_count": 24,
     "metadata": {},
     "output_type": "execute_result"
    }
   ],
   "source": [
    "select = report.iloc[:, 0:6]\n",
    "select.head()"
   ]
  },
  {
   "cell_type": "code",
   "execution_count": 25,
   "metadata": {},
   "outputs": [
    {
     "data": {
      "text/html": [
       "<div>\n",
       "<style scoped>\n",
       "    .dataframe tbody tr th:only-of-type {\n",
       "        vertical-align: middle;\n",
       "    }\n",
       "\n",
       "    .dataframe tbody tr th {\n",
       "        vertical-align: top;\n",
       "    }\n",
       "\n",
       "    .dataframe thead th {\n",
       "        text-align: right;\n",
       "    }\n",
       "</style>\n",
       "<table border=\"1\" class=\"dataframe\">\n",
       "  <thead>\n",
       "    <tr style=\"text-align: right;\">\n",
       "      <th></th>\n",
       "      <th></th>\n",
       "      <th>Number</th>\n",
       "      <th>Network (Auto-Generates)</th>\n",
       "      <th>Type of Scam</th>\n",
       "      <th>Proofs</th>\n",
       "      <th>Knows your name?\\nCheck if yes</th>\n",
       "    </tr>\n",
       "  </thead>\n",
       "  <tbody>\n",
       "    <tr>\n",
       "      <th>4885</th>\n",
       "      <td>4886</td>\n",
       "      <td>9207721859</td>\n",
       "      <td>Smart or Talk ‘N Text</td>\n",
       "      <td>JACKPOT CITY</td>\n",
       "      <td>*Insert my name*., Just a minimum deposit, you...</td>\n",
       "      <td>True</td>\n",
       "    </tr>\n",
       "    <tr>\n",
       "      <th>4886</th>\n",
       "      <td>4887</td>\n",
       "      <td>9854472269</td>\n",
       "      <td>Smart or Talk ‘N Text</td>\n",
       "      <td>SBET</td>\n",
       "      <td>*insert my name*., Experience SBET, STABLE SYS...</td>\n",
       "      <td>True</td>\n",
       "    </tr>\n",
       "    <tr>\n",
       "      <th>4887</th>\n",
       "      <td>4888</td>\n",
       "      <td>9811248577</td>\n",
       "      <td>Smart or Talk ‘N Text</td>\n",
       "      <td>JACKPOT CITY</td>\n",
       "      <td>*Insert my name*., JACKPOT CITY has the best g...</td>\n",
       "      <td>True</td>\n",
       "    </tr>\n",
       "    <tr>\n",
       "      <th>4888</th>\n",
       "      <td>4889</td>\n",
       "      <td>9855665323</td>\n",
       "      <td>Smart or Talk ‘N Text</td>\n",
       "      <td>Dear VIP</td>\n",
       "      <td>Why are you still waiting, DEAR VIP Get your P...</td>\n",
       "      <td>False</td>\n",
       "    </tr>\n",
       "    <tr>\n",
       "      <th>4890</th>\n",
       "      <td>4891</td>\n",
       "      <td>9264224386</td>\n",
       "      <td>Globe or TM</td>\n",
       "      <td>fake seller</td>\n",
       "      <td>NaN</td>\n",
       "      <td>True</td>\n",
       "    </tr>\n",
       "  </tbody>\n",
       "</table>\n",
       "</div>"
      ],
      "text/plain": [
       "                Number Network (Auto-Generates)  Type of Scam  \\\n",
       "4885  4886  9207721859    Smart or Talk ‘N Text  JACKPOT CITY   \n",
       "4886  4887  9854472269    Smart or Talk ‘N Text          SBET   \n",
       "4887  4888  9811248577    Smart or Talk ‘N Text  JACKPOT CITY   \n",
       "4888  4889  9855665323    Smart or Talk ‘N Text      Dear VIP   \n",
       "4890  4891  9264224386              Globe or TM   fake seller   \n",
       "\n",
       "                                                 Proofs  \\\n",
       "4885  *Insert my name*., Just a minimum deposit, you...   \n",
       "4886  *insert my name*., Experience SBET, STABLE SYS...   \n",
       "4887  *Insert my name*., JACKPOT CITY has the best g...   \n",
       "4888  Why are you still waiting, DEAR VIP Get your P...   \n",
       "4890                                                NaN   \n",
       "\n",
       "     Knows your name?\\nCheck if yes  \n",
       "4885                           True  \n",
       "4886                           True  \n",
       "4887                           True  \n",
       "4888                          False  \n",
       "4890                           True  "
      ]
     },
     "execution_count": 25,
     "metadata": {},
     "output_type": "execute_result"
    }
   ],
   "source": [
    "select = select.dropna(subset=['Number'], axis = 0)\n",
    "select.tail()"
   ]
  },
  {
   "attachments": {},
   "cell_type": "markdown",
   "metadata": {},
   "source": [
    "##### **Columns**"
   ]
  },
  {
   "cell_type": "code",
   "execution_count": 26,
   "metadata": {},
   "outputs": [],
   "source": [
    "#rename all columns\n",
    "select.columns = ['id','number', 'network', 'type', 'proof', 'name']\n"
   ]
  },
  {
   "cell_type": "code",
   "execution_count": 27,
   "metadata": {},
   "outputs": [
    {
     "data": {
      "text/html": [
       "<div>\n",
       "<style scoped>\n",
       "    .dataframe tbody tr th:only-of-type {\n",
       "        vertical-align: middle;\n",
       "    }\n",
       "\n",
       "    .dataframe tbody tr th {\n",
       "        vertical-align: top;\n",
       "    }\n",
       "\n",
       "    .dataframe thead th {\n",
       "        text-align: right;\n",
       "    }\n",
       "</style>\n",
       "<table border=\"1\" class=\"dataframe\">\n",
       "  <thead>\n",
       "    <tr style=\"text-align: right;\">\n",
       "      <th></th>\n",
       "      <th>id</th>\n",
       "      <th>number</th>\n",
       "      <th>network</th>\n",
       "      <th>type</th>\n",
       "      <th>proof</th>\n",
       "      <th>name</th>\n",
       "    </tr>\n",
       "  </thead>\n",
       "  <tbody>\n",
       "    <tr>\n",
       "      <th>0</th>\n",
       "      <td>1</td>\n",
       "      <td>9103239417</td>\n",
       "      <td>NaN</td>\n",
       "      <td>Work from home</td>\n",
       "      <td>NaN</td>\n",
       "      <td>False</td>\n",
       "    </tr>\n",
       "    <tr>\n",
       "      <th>1</th>\n",
       "      <td>2</td>\n",
       "      <td>95348643</td>\n",
       "      <td>NaN</td>\n",
       "      <td>Dating Scam</td>\n",
       "      <td>NaN</td>\n",
       "      <td>False</td>\n",
       "    </tr>\n",
       "    <tr>\n",
       "      <th>2</th>\n",
       "      <td>3</td>\n",
       "      <td>931804865</td>\n",
       "      <td>NaN</td>\n",
       "      <td>work</td>\n",
       "      <td>NaN</td>\n",
       "      <td>False</td>\n",
       "    </tr>\n",
       "    <tr>\n",
       "      <th>3</th>\n",
       "      <td>4</td>\n",
       "      <td>981197529</td>\n",
       "      <td>NaN</td>\n",
       "      <td>nanalo sa lotto</td>\n",
       "      <td>NaN</td>\n",
       "      <td>False</td>\n",
       "    </tr>\n",
       "    <tr>\n",
       "      <th>4</th>\n",
       "      <td>5</td>\n",
       "      <td>981369614</td>\n",
       "      <td>NaN</td>\n",
       "      <td>Abroad Opportunity kuno</td>\n",
       "      <td>NaN</td>\n",
       "      <td>False</td>\n",
       "    </tr>\n",
       "  </tbody>\n",
       "</table>\n",
       "</div>"
      ],
      "text/plain": [
       "   id      number network                     type proof   name\n",
       "0   1  9103239417     NaN           Work from home   NaN  False\n",
       "1   2    95348643     NaN              Dating Scam   NaN  False\n",
       "2   3   931804865     NaN                     work   NaN  False\n",
       "3   4   981197529     NaN          nanalo sa lotto   NaN  False\n",
       "4   5   981369614     NaN  Abroad Opportunity kuno   NaN  False"
      ]
     },
     "execution_count": 27,
     "metadata": {},
     "output_type": "execute_result"
    }
   ],
   "source": [
    "select.head()"
   ]
  },
  {
   "cell_type": "code",
   "execution_count": 28,
   "metadata": {},
   "outputs": [
    {
     "data": {
      "text/plain": [
       "0       910\n",
       "1       953\n",
       "2       931\n",
       "3       981\n",
       "4       981\n",
       "       ... \n",
       "4885    920\n",
       "4886    985\n",
       "4887    981\n",
       "4888    985\n",
       "4890    926\n",
       "Name: number, Length: 4883, dtype: object"
      ]
     },
     "execution_count": 28,
     "metadata": {},
     "output_type": "execute_result"
    }
   ],
   "source": [
    "#get the first 4 digits of the number\n",
    "select['number'] = select['number'].astype(str).str[:3]\n",
    "select['number']"
   ]
  },
  {
   "attachments": {},
   "cell_type": "markdown",
   "metadata": {},
   "source": [
    "#### **Data Cleaning**"
   ]
  },
  {
   "attachments": {},
   "cell_type": "markdown",
   "metadata": {},
   "source": [
    "##### **Network Column**"
   ]
  },
  {
   "cell_type": "code",
   "execution_count": 29,
   "metadata": {},
   "outputs": [
    {
     "data": {
      "text/html": [
       "<div>\n",
       "<style scoped>\n",
       "    .dataframe tbody tr th:only-of-type {\n",
       "        vertical-align: middle;\n",
       "    }\n",
       "\n",
       "    .dataframe tbody tr th {\n",
       "        vertical-align: top;\n",
       "    }\n",
       "\n",
       "    .dataframe thead th {\n",
       "        text-align: right;\n",
       "    }\n",
       "</style>\n",
       "<table border=\"1\" class=\"dataframe\">\n",
       "  <thead>\n",
       "    <tr style=\"text-align: right;\">\n",
       "      <th></th>\n",
       "      <th>id</th>\n",
       "      <th>number</th>\n",
       "      <th>network</th>\n",
       "      <th>type</th>\n",
       "      <th>proof</th>\n",
       "      <th>name</th>\n",
       "    </tr>\n",
       "  </thead>\n",
       "  <tbody>\n",
       "    <tr>\n",
       "      <th>0</th>\n",
       "      <td>1</td>\n",
       "      <td>910</td>\n",
       "      <td>Smart or Talk 'N Text</td>\n",
       "      <td>Work from home</td>\n",
       "      <td>NaN</td>\n",
       "      <td>False</td>\n",
       "    </tr>\n",
       "    <tr>\n",
       "      <th>1</th>\n",
       "      <td>2</td>\n",
       "      <td>953</td>\n",
       "      <td>Globe or TM</td>\n",
       "      <td>Dating Scam</td>\n",
       "      <td>NaN</td>\n",
       "      <td>False</td>\n",
       "    </tr>\n",
       "    <tr>\n",
       "      <th>2</th>\n",
       "      <td>3</td>\n",
       "      <td>931</td>\n",
       "      <td>Sun Cellular</td>\n",
       "      <td>work</td>\n",
       "      <td>NaN</td>\n",
       "      <td>False</td>\n",
       "    </tr>\n",
       "    <tr>\n",
       "      <th>3</th>\n",
       "      <td>4</td>\n",
       "      <td>981</td>\n",
       "      <td>NaN</td>\n",
       "      <td>nanalo sa lotto</td>\n",
       "      <td>NaN</td>\n",
       "      <td>False</td>\n",
       "    </tr>\n",
       "    <tr>\n",
       "      <th>4</th>\n",
       "      <td>5</td>\n",
       "      <td>981</td>\n",
       "      <td>NaN</td>\n",
       "      <td>Abroad Opportunity kuno</td>\n",
       "      <td>NaN</td>\n",
       "      <td>False</td>\n",
       "    </tr>\n",
       "    <tr>\n",
       "      <th>...</th>\n",
       "      <td>...</td>\n",
       "      <td>...</td>\n",
       "      <td>...</td>\n",
       "      <td>...</td>\n",
       "      <td>...</td>\n",
       "      <td>...</td>\n",
       "    </tr>\n",
       "    <tr>\n",
       "      <th>4885</th>\n",
       "      <td>4886</td>\n",
       "      <td>920</td>\n",
       "      <td>Smart or Talk 'N Text</td>\n",
       "      <td>JACKPOT CITY</td>\n",
       "      <td>*Insert my name*., Just a minimum deposit, you...</td>\n",
       "      <td>True</td>\n",
       "    </tr>\n",
       "    <tr>\n",
       "      <th>4886</th>\n",
       "      <td>4887</td>\n",
       "      <td>985</td>\n",
       "      <td>Smart or Talk ‘N Text</td>\n",
       "      <td>SBET</td>\n",
       "      <td>*insert my name*., Experience SBET, STABLE SYS...</td>\n",
       "      <td>True</td>\n",
       "    </tr>\n",
       "    <tr>\n",
       "      <th>4887</th>\n",
       "      <td>4888</td>\n",
       "      <td>981</td>\n",
       "      <td>Smart or Talk ‘N Text</td>\n",
       "      <td>JACKPOT CITY</td>\n",
       "      <td>*Insert my name*., JACKPOT CITY has the best g...</td>\n",
       "      <td>True</td>\n",
       "    </tr>\n",
       "    <tr>\n",
       "      <th>4888</th>\n",
       "      <td>4889</td>\n",
       "      <td>985</td>\n",
       "      <td>Smart or Talk ‘N Text</td>\n",
       "      <td>Dear VIP</td>\n",
       "      <td>Why are you still waiting, DEAR VIP Get your P...</td>\n",
       "      <td>False</td>\n",
       "    </tr>\n",
       "    <tr>\n",
       "      <th>4890</th>\n",
       "      <td>4891</td>\n",
       "      <td>926</td>\n",
       "      <td>Globe or TM</td>\n",
       "      <td>fake seller</td>\n",
       "      <td>NaN</td>\n",
       "      <td>True</td>\n",
       "    </tr>\n",
       "  </tbody>\n",
       "</table>\n",
       "<p>4883 rows × 6 columns</p>\n",
       "</div>"
      ],
      "text/plain": [
       "        id number                network                     type  \\\n",
       "0        1    910  Smart or Talk 'N Text           Work from home   \n",
       "1        2    953            Globe or TM              Dating Scam   \n",
       "2        3    931           Sun Cellular                     work   \n",
       "3        4    981                    NaN          nanalo sa lotto   \n",
       "4        5    981                    NaN  Abroad Opportunity kuno   \n",
       "...    ...    ...                    ...                      ...   \n",
       "4885  4886    920  Smart or Talk 'N Text             JACKPOT CITY   \n",
       "4886  4887    985  Smart or Talk ‘N Text                     SBET   \n",
       "4887  4888    981  Smart or Talk ‘N Text             JACKPOT CITY   \n",
       "4888  4889    985  Smart or Talk ‘N Text                 Dear VIP   \n",
       "4890  4891    926            Globe or TM              fake seller   \n",
       "\n",
       "                                                  proof   name  \n",
       "0                                                   NaN  False  \n",
       "1                                                   NaN  False  \n",
       "2                                                   NaN  False  \n",
       "3                                                   NaN  False  \n",
       "4                                                   NaN  False  \n",
       "...                                                 ...    ...  \n",
       "4885  *Insert my name*., Just a minimum deposit, you...   True  \n",
       "4886  *insert my name*., Experience SBET, STABLE SYS...   True  \n",
       "4887  *Insert my name*., JACKPOT CITY has the best g...   True  \n",
       "4888  Why are you still waiting, DEAR VIP Get your P...  False  \n",
       "4890                                                NaN   True  \n",
       "\n",
       "[4883 rows x 6 columns]"
      ]
     },
     "execution_count": 29,
     "metadata": {},
     "output_type": "execute_result"
    }
   ],
   "source": [
    "# Create a dictionary mapping prefixes to networks from the second dataframe\n",
    "prefix_network_map = dict(zip(network['Prefix'], network['Network']))\n",
    "\n",
    "# Fill null values with corresponding network information using map() but if the number doesn't have a network, just put \"unknwown\"\n",
    "#select['Network'] = select['Number'].map(prefix_network_map).fillna('unknown')\n",
    "\n",
    "select['network'] = select['number'].map(prefix_network_map).fillna(select['network'])\n",
    "\n",
    "\n",
    "# Print the updated first dataframe\n",
    "select"
   ]
  },
  {
   "cell_type": "code",
   "execution_count": 30,
   "metadata": {},
   "outputs": [
    {
     "data": {
      "text/plain": [
       "Smart or Talk ‘N Text    2110\n",
       "Globe or TM              1245\n",
       "Smart or Talk 'N Text    1018\n",
       "Smart                     289\n",
       "Sun Cellular              131\n",
       "DITO                       78\n",
       "Name: network, dtype: int64"
      ]
     },
     "execution_count": 30,
     "metadata": {},
     "output_type": "execute_result"
    }
   ],
   "source": [
    "select['network'].value_counts()"
   ]
  },
  {
   "cell_type": "code",
   "execution_count": 31,
   "metadata": {},
   "outputs": [
    {
     "data": {
      "text/plain": [
       "Smart or Talk 'N Text    3417\n",
       "Globe or TM              1245\n",
       "Sun Cellular              131\n",
       "DITO                       78\n",
       "Unknown                    12\n",
       "Name: network, dtype: int64"
      ]
     },
     "execution_count": 31,
     "metadata": {},
     "output_type": "execute_result"
    }
   ],
   "source": [
    "#making the Smart sim consistent\n",
    "select['network'] = select['network'].replace(['Smart or Talk ‘N Text', 'Smart'], \"Smart or Talk 'N Text\")\n",
    "\n",
    "#fill null values with \"Unknown\"\n",
    "select['network'] = select['network'].fillna('Unknown')\n",
    "select['network'].value_counts()"
   ]
  },
  {
   "attachments": {},
   "cell_type": "markdown",
   "metadata": {},
   "source": [
    "##### **Type of Spam column**"
   ]
  },
  {
   "cell_type": "code",
   "execution_count": 40,
   "metadata": {},
   "outputs": [
    {
     "data": {
      "text/html": [
       "<div>\n",
       "<style scoped>\n",
       "    .dataframe tbody tr th:only-of-type {\n",
       "        vertical-align: middle;\n",
       "    }\n",
       "\n",
       "    .dataframe tbody tr th {\n",
       "        vertical-align: top;\n",
       "    }\n",
       "\n",
       "    .dataframe thead th {\n",
       "        text-align: right;\n",
       "    }\n",
       "</style>\n",
       "<table border=\"1\" class=\"dataframe\">\n",
       "  <thead>\n",
       "    <tr style=\"text-align: right;\">\n",
       "      <th></th>\n",
       "      <th>id</th>\n",
       "      <th>number</th>\n",
       "      <th>network</th>\n",
       "      <th>type</th>\n",
       "      <th>proof</th>\n",
       "      <th>name</th>\n",
       "    </tr>\n",
       "  </thead>\n",
       "  <tbody>\n",
       "    <tr>\n",
       "      <th>0</th>\n",
       "      <td>1</td>\n",
       "      <td>910</td>\n",
       "      <td>Smart or Talk 'N Text</td>\n",
       "      <td>Work from home</td>\n",
       "      <td>NaN</td>\n",
       "      <td>False</td>\n",
       "    </tr>\n",
       "    <tr>\n",
       "      <th>1</th>\n",
       "      <td>2</td>\n",
       "      <td>953</td>\n",
       "      <td>Globe or TM</td>\n",
       "      <td>Dating Scam</td>\n",
       "      <td>NaN</td>\n",
       "      <td>False</td>\n",
       "    </tr>\n",
       "    <tr>\n",
       "      <th>2</th>\n",
       "      <td>3</td>\n",
       "      <td>931</td>\n",
       "      <td>Sun Cellular</td>\n",
       "      <td>work</td>\n",
       "      <td>NaN</td>\n",
       "      <td>False</td>\n",
       "    </tr>\n",
       "    <tr>\n",
       "      <th>3</th>\n",
       "      <td>4</td>\n",
       "      <td>981</td>\n",
       "      <td>Unknown</td>\n",
       "      <td>nanalo sa lotto</td>\n",
       "      <td>NaN</td>\n",
       "      <td>False</td>\n",
       "    </tr>\n",
       "    <tr>\n",
       "      <th>4</th>\n",
       "      <td>5</td>\n",
       "      <td>981</td>\n",
       "      <td>Unknown</td>\n",
       "      <td>Abroad Opportunity kuno</td>\n",
       "      <td>NaN</td>\n",
       "      <td>False</td>\n",
       "    </tr>\n",
       "  </tbody>\n",
       "</table>\n",
       "</div>"
      ],
      "text/plain": [
       "   id number                network                     type proof   name\n",
       "0   1    910  Smart or Talk 'N Text           Work from home   NaN  False\n",
       "1   2    953            Globe or TM              Dating Scam   NaN  False\n",
       "2   3    931           Sun Cellular                     work   NaN  False\n",
       "3   4    981                Unknown          nanalo sa lotto   NaN  False\n",
       "4   5    981                Unknown  Abroad Opportunity kuno   NaN  False"
      ]
     },
     "execution_count": 40,
     "metadata": {},
     "output_type": "execute_result"
    }
   ],
   "source": [
    "select.head()"
   ]
  },
  {
   "cell_type": "code",
   "execution_count": 46,
   "metadata": {},
   "outputs": [
    {
     "data": {
      "text/plain": [
       "Fake COVID 19 Cash Grant    9\n",
       "Cash Support                9\n",
       "T1bet7                      9\n",
       "Paload                      9\n",
       "Verification Code           9\n",
       "                           ..\n",
       "6.9m                        1\n",
       "5.8m                        1\n",
       "5000 php                    1\n",
       "good offer                  1\n",
       "fake seller                 1\n",
       "Name: type, Length: 249, dtype: int64"
      ]
     },
     "execution_count": 46,
     "metadata": {},
     "output_type": "execute_result"
    }
   ],
   "source": [
    "#get the value counts less than 50 in the type column\n",
    "select['type'].value_counts()[select['type'].value_counts() < 10]"
   ]
  },
  {
   "cell_type": "code",
   "execution_count": 52,
   "metadata": {},
   "outputs": [
    {
     "data": {
      "text/plain": [
       "Online Games                     352\n",
       "Not Specified                    322\n",
       "Casino                           273\n",
       "Online Casino                    211\n",
       "Solar Lights                     206\n",
       "Lazada Kuno                      150\n",
       "Email                            149\n",
       "Work                             146\n",
       "Unclaimed Bonus                  110\n",
       "Work from home                   109\n",
       "Loan/Pautang                     108\n",
       "Register and win                 106\n",
       "Bank Scam                         99\n",
       "Raffle                            97\n",
       "Play to Win                       82\n",
       "Job Offer                         72\n",
       "Rewards                           64\n",
       "Deposit scam                      63\n",
       "Bonus                             57\n",
       "Name                              55\n",
       "BINGO                             51\n",
       "Passive Income                    51\n",
       "Funds                             48\n",
       "Investment                        45\n",
       "Gcash scam                        44\n",
       "Claim B0nus                       41\n",
       "Nanalo Sa Lotto                   40\n",
       "Claim Money                       40\n",
       "Web Platform                      39\n",
       "Libreng Pera                      37\n",
       "nanalo sa lotto                   37\n",
       "Online Cockfighting               36\n",
       "Mybitglobal                       30\n",
       "Free Gifts                        29\n",
       "Gaming Platform                   29\n",
       "Can assist in cash essentials     29\n",
       "Play to Earn                      27\n",
       "W.Plus                            27\n",
       "Globe                             24\n",
       "work                              24\n",
       "your phone no has won             22\n",
       "Netflix kuno                      22\n",
       "Cryptocurrency                    21\n",
       "Big J@CKP0T                       20\n",
       "JILI and FC Jackpot               20\n",
       "Top-up Bonus                      19\n",
       "Legit Site daw                    19\n",
       "Free Spin                         19\n",
       "Political                         19\n",
       "Abroad Opportunity kuno           19\n",
       "Name: type, dtype: int64"
      ]
     },
     "execution_count": 52,
     "metadata": {},
     "output_type": "execute_result"
    }
   ],
   "source": [
    "#show top 50 value counts in the type column\n",
    "select['type'].value_counts()[:50]"
   ]
  },
  {
   "cell_type": "code",
   "execution_count": 53,
   "metadata": {},
   "outputs": [
    {
     "data": {
      "text/plain": [
       "Cashback                               18\n",
       "BINGO PLUS                             18\n",
       "Fake News                              17\n",
       "Resgister and win                      17\n",
       "Deposit Bonus                          17\n",
       "Phone Call Scam                        16\n",
       "T1BET                                  16\n",
       "FastCashVIP                            15\n",
       "Interview                              15\n",
       "Magbukas ng account                    15\n",
       "Relief/Assistance Fund                 15\n",
       "URGENT                                 14\n",
       "PAGCOR licensed                        14\n",
       "Okbet                                  14\n",
       "Free (luckyphil)                       13\n",
       "Pindutin Para Kunin                    13\n",
       "Salary Claim                           13\n",
       "Dating Scam                            12\n",
       "Blank Message                          12\n",
       "Shoppee Kuno                           12\n",
       "cash prize                             11\n",
       "Cash In/Out                            10\n",
       "Mega win                               10\n",
       "Pacquiao Foundation                    10\n",
       "1M kita                                10\n",
       "Part Time                              10\n",
       "Fake COVID 19 Cash Grant                9\n",
       "Cash Support                            9\n",
       "T1bet7                                  9\n",
       "Paload                                  9\n",
       "Verification Code                       9\n",
       "LUCKY LINK                              9\n",
       "Sex booking                             9\n",
       "Gaming                                  8\n",
       "Work @ POEA                             8\n",
       "Gam1ng Platf0rm                         8\n",
       "Discounted Random Item 80%              8\n",
       "Spending Limit Data                     8\n",
       "Property Details                        8\n",
       "SBET                                    7\n",
       "JB Gaming                               6\n",
       "bill ease                               6\n",
       "Global Currency Platform                6\n",
       "Senior Citizen COVID-19 Relief          6\n",
       "knows my name                           6\n",
       "Betting.pics                            6\n",
       "Officed-based english teachers scam     6\n",
       "Unfamiliar Email Drops                  6\n",
       "Unithieves                              6\n",
       "Name: type, dtype: int64"
      ]
     },
     "execution_count": 53,
     "metadata": {},
     "output_type": "execute_result"
    }
   ],
   "source": [
    "select['type'].value_counts()[51:100]"
   ]
  },
  {
   "cell_type": "code",
   "execution_count": 47,
   "metadata": {},
   "outputs": [
    {
     "data": {
      "text/plain": [
       "array(['Work from home', 'Dating Scam', 'work', 'nanalo sa lotto',\n",
       "       'Abroad Opportunity kuno', 'Fake News', 'bill ease', 'Raffle',\n",
       "       'Bank Scam', 'Online Games', 'Lazada Kuno', 'Unclaimed Bonus',\n",
       "       'Paload', 'Name', 'email', 'investment', 'Nanalo Sa Lotto',\n",
       "       'Web Platform', 'Email', 'Work', 'Not Specified',\n",
       "       'Relief/Assistance Fund', 'Investment', 'Passive Income',\n",
       "       'Online Casino', 'No message text', 'Online sale', 'Casino winner',\n",
       "       'Lazada kuno', 'salary claim', 'Globe', 'Casino', 'Pampapayat',\n",
       "       'Rewards', 'Loan/Pautang', 'Cryptocurrency',\n",
       "       'Pacquiao Foundation ', 'Legit Site daw', 'JILI GAmes',\n",
       "       'Phone Discounts', 'POINTs', 'Product', 'Funds', 'Shoppee Kuno',\n",
       "       'loan', 'casino', 'Vaccum Flask kuno', 'Wrong Number Scam',\n",
       "       'Property Details', 'Netflix kuno', 'unclaimed Bonus', 'Bank scam',\n",
       "       'Solar Lights', 'Can assist in cash essentials', 'Deposit scam',\n",
       "       'Political', 'Gcash scam', 'PAGCOR licensed', 'Promo',\n",
       "       'Resgister and win', 'Sex booking', 'Work @ POEA', 'Amazon',\n",
       "       'Manny Villar Scam', 'Online Cockfighting', 'Top-up Bonus',\n",
       "       'Online games', 'Paymaya kuno', 'Verification Code', 'Bitglobal',\n",
       "       'Unclaim Prize', 'Ayuda Scam', 'kabit ng ate ko', 'Play to Win',\n",
       "       'JACKP0T PRIZE', 'mybitglobal', 'JACKP0T', 'News', 'Betting',\n",
       "       'Free Gifts', 'Register and win', 'Glowrist Collection',\n",
       "       'So-called remaining earned points will expire.',\n",
       "       '\"Toyota Ilocos Norte po ba ito?\" random text.', 'LuckyPhil',\n",
       "       'Fake COVID 19 Cash Grant', 'Play to Earn', 'Fake OFW',\n",
       "       'Spending Limit Data', 'Blank Message', 'Download', 'Foodpanda',\n",
       "       'Libreng Pera', 'your phone no has won', 'Pindutin Para Kunin',\n",
       "       'reward', 'Okbet', 'Buy now pay later scheme', 'URGENT',\n",
       "       'Pasa load scam', 'Dalang 10milyon', 'BINGO',\n",
       "       'Officed-based english teachers scam', 'Global Currency Platform',\n",
       "       'Senior Citizen COVID-19 Relief', 'Interview', 'Salary Claim',\n",
       "       'Sign up to win a prize', 'Million Cash Jackpot', 'Mybitglobal',\n",
       "       'w', 'Update to latest version', 'Lucky winner',\n",
       "       'Free (luckyphil)', 'Sumali at may stocks ',\n",
       "       'Global Fund Empowerment', nan, 'i called but network fails',\n",
       "       'isang slot para makakuha', 'free registration free bonus',\n",
       "       'idownload ngayun, makakuha gad and 10', 'Link', 'GMA',\n",
       "       'Egg Tray ', 'online casino', 'Expired account',\n",
       "       'Unpaid Loan Balance', 'unpaid loan balance', 'MG account opening',\n",
       "       'Senior Citizen Entitlement Support', 'Subpoena ',\n",
       "       'Build Build Build by Sara', 'Sikreto para yumaman', 'Part-Time',\n",
       "       'W.Plus', '5000 cash', '600 pesos', 'Job Offer',\n",
       "       'Online Cockfighting Betting Field', 'Welfare Game Platform',\n",
       "       'Covid 19 Allowance', 'CTBC Cashloan', 'Cash Application',\n",
       "       'Come to Earn', 'Rescue Bonus', 'Fake Opportunity ',\n",
       "       'Fake Part Time Job', 'Promo Kuno', 'Global Promotion',\n",
       "       'Fake Email', 'Claim B0nus', 'Red envelope', 'Uniteam', 'Bonus',\n",
       "       'se.xy dealer', 'Claim Money', '2182 kuno',\n",
       "       'Event is about to start with link', 'financial freedom', 'T1bet7',\n",
       "       'Discounted Random Item 80%', 'Betting.pics', 'Wplus',\n",
       "       'Gam1ng Platf0rm', 'vip', '6.9m', '5.8m', '5000 php', 'good offer',\n",
       "       'get5k blog google ads', 'Red Envelope', 'Phone Call Scam',\n",
       "       'lais7m.com', '5irpkeso.com', 'Claim Rebate', 'Free Spin',\n",
       "       'Globe (Bernales)', 'american lover (phishing)',\n",
       "       'unidentified person singil',\n",
       "       'phone call 50% discount 24 karat gold necklace', 'Manny Villar',\n",
       "       'Pindutin Para Sumali', 'Cashback', 'T1BET', 'Deposit Bonus',\n",
       "       'Get 100 pesos', 'Magbukas ng account',\n",
       "       'slot machine betting platform', 'JILI and FC Jackpot',\n",
       "       'Load Points', 'Lotto', 'SMSCARTER ', 'Part Time ', 'Cash Support',\n",
       "       'Cynthia Villar', 'Unithieves', 'Site', 'trade money',\n",
       "       'Villar Foundation', 'Legit site kuno', 'coca cola', 'FastCashVIP',\n",
       "       'Cashwill', 'Gaming Platform', 'Last minute deals',\n",
       "       'Milyon na kita', 'New user promo', 'Fake verification code',\n",
       "       '1M kita', 'knows my name', 'beloved', 'smcaster.com', 'Proposal',\n",
       "       'fxtrade', 'LUCKY LINK', 'Big J@CKP0T',\n",
       "       \"Lucky Wheel's Mystery Bonus\", 'UNITEAM', 'TM/GLOBE COMPANY',\n",
       "       'GMA Wowowin', 'Unfamiliar Email Drops', 'Lazada PayDay',\n",
       "       'wag aalis ng walang pera', 'bigyan ng blessing', 'Trabaho',\n",
       "       'slot machine', 'spam call', 'kopiko blanca', 'bilyonaryo.com',\n",
       "       'good122.com', 'lucky prize', 'Pahiyang', 'Cash In/Out',\n",
       "       'Nakakabaliw na Handog', 'Welcome Bonus', 'JB Gaming',\n",
       "       'Salamat sa feedback', 'relationship', 'global coin',\n",
       "       'Christmas Songs', 'pretty dealers', 'idownload', 'blangko',\n",
       "       'Contact Reference - Online Lending', 'Contact me for talk',\n",
       "       'AtinBet', 'Best Filipino Roulette Casino', 'AVA & CHARLES BURTON',\n",
       "       'Wildplay Betting', 'Credit Card Holder', 'LuckyGaming',\n",
       "       'Mega win', 'Jackpot', 'WELCOME BONUS', 'BINGO PLUS',\n",
       "       'Global Coin Trading', 'wordpress20221', 'Mabilis kumita',\n",
       "       'Important Issue', 'bitglobalgood', 'lodibet123', 'poker fishing',\n",
       "       'Globe unpaid deactivated account', 'Iphone 14 promax promo',\n",
       "       'Download link', '18888 PESO TO BE CLAIM', 'ONLINEBET.PH/JBGAMES',\n",
       "       '$180,000.00 award', 'Milyon na bonus', 'POEA', 'bitcoin',\n",
       "       'Nag-aalok ng pagkakakitaan', 'T1BET Slot Game', 'Live App',\n",
       "       '0kada', 'Buksan para kumita', 'Claim IPhonePRO', 'cash prize',\n",
       "       'Magandang balita', 'raffle', 'Sumali at kumita nang 90%',\n",
       "       'Roulette', 'NFT', 'SEVENBET', 'PAMUMUHUNAN', 'luckySlot',\n",
       "       'Google Products', 'Slots (JILI)', 'play to win',\n",
       "       'Slots (Pinasgo,com)', 'Free Cash ', 'Real Deal', 'Weekend Promot',\n",
       "       'Weekend Promo ', 'Winmore8,com', 'Jili Mega Jackpot',\n",
       "       'Cash Prize and iPhone 14', 'Jili Mega Jackpot ', 'IPHONE14PROMAX',\n",
       "       'IPHONE14PROMAX ', 'Slots (Pinaspo,com)', 'Gaming',\n",
       "       'Slots (bestpinas,com)', 'Card game (pinaswin,com)', 'Mega Bonus',\n",
       "       'Smart winner', 'goodplay8', 'Uppinas', 'grab', 'Grab',\n",
       "       'Casino and Slots (Winpinas8,com)', 'Iphone',\n",
       "       'winningplus jackpot', 'SBET', 'Sabong Fight', 'Slot Games',\n",
       "       'Prizes', 'LuckyGCash', 'Slots Games', 'Various Gifts',\n",
       "       'Unclaimed Relief Allowance', 'Unlimited Rebate', 'online sabong',\n",
       "       'Winning Gadgets ', 'JACKPOT CITY', 'Dear VIP', 'fake seller'],\n",
       "      dtype=object)"
      ]
     },
     "execution_count": 47,
     "metadata": {},
     "output_type": "execute_result"
    }
   ],
   "source": [
    "#get allunqite values in the type column\n",
    "select['type'].unique()"
   ]
  },
  {
   "attachments": {},
   "cell_type": "markdown",
   "metadata": {},
   "source": [
    "##### **Proof column**"
   ]
  },
  {
   "cell_type": "code",
   "execution_count": 32,
   "metadata": {},
   "outputs": [
    {
     "data": {
      "text/html": [
       "<div>\n",
       "<style scoped>\n",
       "    .dataframe tbody tr th:only-of-type {\n",
       "        vertical-align: middle;\n",
       "    }\n",
       "\n",
       "    .dataframe tbody tr th {\n",
       "        vertical-align: top;\n",
       "    }\n",
       "\n",
       "    .dataframe thead th {\n",
       "        text-align: right;\n",
       "    }\n",
       "</style>\n",
       "<table border=\"1\" class=\"dataframe\">\n",
       "  <thead>\n",
       "    <tr style=\"text-align: right;\">\n",
       "      <th></th>\n",
       "      <th>id</th>\n",
       "      <th>number</th>\n",
       "      <th>network</th>\n",
       "      <th>type</th>\n",
       "      <th>proof</th>\n",
       "      <th>name</th>\n",
       "    </tr>\n",
       "  </thead>\n",
       "  <tbody>\n",
       "    <tr>\n",
       "      <th>0</th>\n",
       "      <td>1</td>\n",
       "      <td>910</td>\n",
       "      <td>Smart or Talk 'N Text</td>\n",
       "      <td>Work from home</td>\n",
       "      <td>NaN</td>\n",
       "      <td>False</td>\n",
       "    </tr>\n",
       "    <tr>\n",
       "      <th>1</th>\n",
       "      <td>2</td>\n",
       "      <td>953</td>\n",
       "      <td>Globe or TM</td>\n",
       "      <td>Dating Scam</td>\n",
       "      <td>NaN</td>\n",
       "      <td>False</td>\n",
       "    </tr>\n",
       "    <tr>\n",
       "      <th>2</th>\n",
       "      <td>3</td>\n",
       "      <td>931</td>\n",
       "      <td>Sun Cellular</td>\n",
       "      <td>work</td>\n",
       "      <td>NaN</td>\n",
       "      <td>False</td>\n",
       "    </tr>\n",
       "    <tr>\n",
       "      <th>3</th>\n",
       "      <td>4</td>\n",
       "      <td>981</td>\n",
       "      <td>Unknown</td>\n",
       "      <td>nanalo sa lotto</td>\n",
       "      <td>NaN</td>\n",
       "      <td>False</td>\n",
       "    </tr>\n",
       "    <tr>\n",
       "      <th>4</th>\n",
       "      <td>5</td>\n",
       "      <td>981</td>\n",
       "      <td>Unknown</td>\n",
       "      <td>Abroad Opportunity kuno</td>\n",
       "      <td>NaN</td>\n",
       "      <td>False</td>\n",
       "    </tr>\n",
       "  </tbody>\n",
       "</table>\n",
       "</div>"
      ],
      "text/plain": [
       "   id number                network                     type proof   name\n",
       "0   1    910  Smart or Talk 'N Text           Work from home   NaN  False\n",
       "1   2    953            Globe or TM              Dating Scam   NaN  False\n",
       "2   3    931           Sun Cellular                     work   NaN  False\n",
       "3   4    981                Unknown          nanalo sa lotto   NaN  False\n",
       "4   5    981                Unknown  Abroad Opportunity kuno   NaN  False"
      ]
     },
     "execution_count": 32,
     "metadata": {},
     "output_type": "execute_result"
    }
   ],
   "source": [
    "select.head()"
   ]
  },
  {
   "attachments": {},
   "cell_type": "markdown",
   "metadata": {},
   "source": [
    "##### **Name column**"
   ]
  },
  {
   "cell_type": "code",
   "execution_count": 33,
   "metadata": {},
   "outputs": [
    {
     "data": {
      "text/plain": [
       "False                                                                                                                          4669\n",
       "True                                                                                                                            195\n",
       "linky-ph/-BingoPlus                                                                                                               2\n",
       "Atin/B.e.t/  is  B.e.s.t On/l.i.n.e Ca/si.n0 in the Philippines. http://okadaonline.pics/KsN G/e/t 80 % for every de/po/sit       2\n",
       "Mentioned my name and the link. Ayaw nya daw ako maging mahirap HAHHAHA                                                           1\n",
       "98 Games; Cash in                                                                                                                 1\n",
       "http://gcxvd2ny.com                                                                                                               1\n",
       "mentioned my name                                                                                                                 1\n",
       "https://linnki.in/WNgzX                                                                                                           1\n",
       "mentioned my full name                                                                                                            1\n",
       "Mybitglobal (https://t.co/9GDnInpR0M                                                                                              1\n",
       "*got my name from viber                                                                                                           1\n",
       "wplusb3t4you.com/P2n2-Ng-Sw3rt3                                                                                                   1\n",
       "https://bit.ly/6vCnboP                                                                                                            1\n",
       "https://t.hxfxph.com./YP1WL                                                                                                       1\n",
       "http://ox4xtu.com                                                                                                                 1\n",
       "luckyphil.com/login                                                                                                               1\n",
       "https://lihi1.com/7QQPD                                                                                                           1\n",
       "Name: name, dtype: int64"
      ]
     },
     "execution_count": 33,
     "metadata": {},
     "output_type": "execute_result"
    }
   ],
   "source": [
    "select['name'].value_counts()"
   ]
  },
  {
   "cell_type": "code",
   "execution_count": 34,
   "metadata": {},
   "outputs": [
    {
     "data": {
      "text/plain": [
       "4882"
      ]
     },
     "execution_count": 34,
     "metadata": {},
     "output_type": "execute_result"
    }
   ],
   "source": [
    "select['name'].value_counts().sum()"
   ]
  },
  {
   "cell_type": "code",
   "execution_count": 35,
   "metadata": {},
   "outputs": [],
   "source": [
    "df = select.copy()"
   ]
  },
  {
   "cell_type": "code",
   "execution_count": 36,
   "metadata": {},
   "outputs": [],
   "source": [
    "df['name'] = df['name'].apply(lambda x: True if isinstance(x, str) and re.search(r'\\bname\\b', x) else x)"
   ]
  },
  {
   "cell_type": "code",
   "execution_count": 37,
   "metadata": {},
   "outputs": [
    {
     "data": {
      "text/plain": [
       "False                                                                                                                          4669\n",
       "True                                                                                                                            199\n",
       "linky-ph/-BingoPlus                                                                                                               2\n",
       "Atin/B.e.t/  is  B.e.s.t On/l.i.n.e Ca/si.n0 in the Philippines. http://okadaonline.pics/KsN G/e/t 80 % for every de/po/sit       2\n",
       "98 Games; Cash in                                                                                                                 1\n",
       "http://gcxvd2ny.com                                                                                                               1\n",
       "https://linnki.in/WNgzX                                                                                                           1\n",
       "Mybitglobal (https://t.co/9GDnInpR0M                                                                                              1\n",
       "https://lihi1.com/7QQPD                                                                                                           1\n",
       "wplusb3t4you.com/P2n2-Ng-Sw3rt3                                                                                                   1\n",
       "https://bit.ly/6vCnboP                                                                                                            1\n",
       "https://t.hxfxph.com./YP1WL                                                                                                       1\n",
       "http://ox4xtu.com                                                                                                                 1\n",
       "luckyphil.com/login                                                                                                               1\n",
       "Name: name, dtype: int64"
      ]
     },
     "execution_count": 37,
     "metadata": {},
     "output_type": "execute_result"
    }
   ],
   "source": [
    "df['name'].value_counts()"
   ]
  },
  {
   "cell_type": "code",
   "execution_count": 38,
   "metadata": {},
   "outputs": [
    {
     "data": {
      "text/plain": [
       "False    4684\n",
       "True      199\n",
       "Name: name, dtype: int64"
      ]
     },
     "execution_count": 38,
     "metadata": {},
     "output_type": "execute_result"
    }
   ],
   "source": [
    "df['name'] = df['name'].astype(str)\n",
    "\n",
    "# Replace non-Boolean values with False\n",
    "df.loc[~df['name'].str.lower().isin(['true', 'false']), 'name'] = 'False'\n",
    "\n",
    "df['name'].value_counts()"
   ]
  },
  {
   "attachments": {},
   "cell_type": "markdown",
   "metadata": {},
   "source": [
    "#### **Feature Selection**"
   ]
  },
  {
   "attachments": {},
   "cell_type": "markdown",
   "metadata": {},
   "source": [
    "### **Spam**"
   ]
  },
  {
   "attachments": {},
   "cell_type": "markdown",
   "metadata": {},
   "source": [
    "#### **Data Preprocessing**"
   ]
  },
  {
   "attachments": {},
   "cell_type": "markdown",
   "metadata": {},
   "source": [
    "#### **Data Cleaning**"
   ]
  },
  {
   "attachments": {},
   "cell_type": "markdown",
   "metadata": {},
   "source": [
    "#### **Feature Selection**"
   ]
  },
  {
   "attachments": {},
   "cell_type": "markdown",
   "metadata": {},
   "source": [
    "### **Incidents**"
   ]
  },
  {
   "attachments": {},
   "cell_type": "markdown",
   "metadata": {},
   "source": [
    "#### **Data Preprocessing**"
   ]
  },
  {
   "attachments": {},
   "cell_type": "markdown",
   "metadata": {},
   "source": [
    "#### **Data Cleaning**"
   ]
  },
  {
   "attachments": {},
   "cell_type": "markdown",
   "metadata": {},
   "source": [
    "#### **Feature Selection**"
   ]
  },
  {
   "attachments": {},
   "cell_type": "markdown",
   "metadata": {
    "id": "i2bH73IK4_Z2"
   },
   "source": [
    "# **Saving Dataframes as CSVs**"
   ]
  },
  {
   "cell_type": "code",
   "execution_count": 39,
   "metadata": {},
   "outputs": [],
   "source": [
    "#.to_csv('.csv')\n"
   ]
  }
 ],
 "metadata": {
  "colab": {
   "authorship_tag": "ABX9TyNl8yGGgRPIQJF26wcDNzFD",
   "collapsed_sections": [
    "ppFAnb9My2ZV",
    "ohCExKZ4y2jN",
    "xHXvwKOdy2qv",
    "bOmp84vdy2xi",
    "1xhhYdY5zQXO",
    "leSuwgFlzRfk",
    "cau2aFTizRny",
    "RCZGlrwFGMK6",
    "YxdYSmUNJEZj",
    "sBwZs9vTm_ls",
    "4qVk5PTvzq4w",
    "p1qyD5eozuY7",
    "GfyASe1kzvJ8",
    "GHCV--QQzvdG",
    "JbyUbdrR47eH",
    "i2bH73IK4_Z2"
   ],
   "include_colab_link": true,
   "provenance": []
  },
  "kernelspec": {
   "display_name": "Python 3",
   "language": "python",
   "name": "python3"
  },
  "language_info": {
   "codemirror_mode": {
    "name": "ipython",
    "version": 3
   },
   "file_extension": ".py",
   "mimetype": "text/x-python",
   "name": "python",
   "nbconvert_exporter": "python",
   "pygments_lexer": "ipython3",
   "version": "3.8.13"
  }
 },
 "nbformat": 4,
 "nbformat_minor": 4
}
